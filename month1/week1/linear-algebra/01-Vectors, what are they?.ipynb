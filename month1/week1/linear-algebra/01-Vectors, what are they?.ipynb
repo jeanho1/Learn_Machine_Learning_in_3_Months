{
 "cells": [
  {
   "cell_type": "markdown",
   "metadata": {},
   "source": [
    "# Vectors"
   ]
  },
  {
   "cell_type": "markdown",
   "metadata": {},
   "source": [
    "My notes from [Vectors, what even are they? - Essence of linear algebra](https://www.youtube.com/watch?v=kjBOesZCoqc&index=1&list=PLZHQObOWTQDPD3MizzM2xVFitgF8hE_ab)"
   ]
  },
  {
   "cell_type": "markdown",
   "metadata": {},
   "source": [
    "## Different perspectives\n",
    "\n",
    "- Physics: \n",
    "    - vectors are arrows pointing in space\n",
    "    - what defines a vector is its length and direction\n",
    "- Computer Science\n",
    "    - vectors: ordered lists of numbers\n",
    "    - Example: a house with 2 features: square footage and price. \n",
    "\n",
    "$$\\begin{bmatrix}\n",
    "2600 ft^2 \\\\\n",
    "$300 \\\\\n",
    "\\end{bmatrix}$$\n",
    "\n",
    "- Math\n",
    "    - seeks to generalize both the views\n",
    "            "
   ]
  },
  {
   "cell_type": "markdown",
   "metadata": {},
   "source": [
    "## What are vectors"
   ]
  },
  {
   "cell_type": "markdown",
   "metadata": {},
   "source": [
    "- Coordinates of a vector is a pair of number that gives instruction to get from the tail to the tip of the vector.\n",
    "\n",
    "<img src=\"images/Screen Shot 2018-06-12 at 10.29.10 AM.png\">\n",
    "\n",
    "\n",
    "*Screenshot taken from [3Blue1Brown\n",
    "](https://www.youtube.com/watch?v=fNk_zzaMoSs&list=PLZHQObOWTQDPD3MizzM2xVFitgF8hE_ab&index=2)*\n",
    "\n",
    "<!--TEASER_END-->"
   ]
  },
  {
   "cell_type": "markdown",
   "metadata": {},
   "source": [
    "## Vector addition\n",
    "\n",
    "- Assume we have 2 vectors v and w\n",
    "- To add these 2 vectors, move the second one sits at the tip of the first one.\n",
    "\n",
    "<img src=\"images/Screen Shot 2018-06-12 at 10.37.05 AM.png\">\n",
    "<img src=\"images/Screen Shot 2018-06-12 at 10.37.46 AM.png\">\n",
    "\n",
    "*Screenshot taken from [3Blue1Brown\n",
    "](https://www.youtube.com/watch?v=fNk_zzaMoSs&list=PLZHQObOWTQDPD3MizzM2xVFitgF8hE_ab&index=2)*\n",
    "\n",
    "<!--TEASER_END-->"
   ]
  },
  {
   "cell_type": "markdown",
   "metadata": {},
   "source": [
    "## Scalar multiplication\n",
    "\n",
    "- Scalar multiplication: Vector multiples by a number\n",
    "- If we multiply a vector: $\\large 2\\vec{v}$. This means we stretch out the vector so it is now 2 times its length.\n",
    "- The process of stretching or squishing or reversing the direction of a vector is called __\"scaling\"__.\n",
    "- The number we use to multiply or scale the vector is called __scalars__.\n",
    "\n"
   ]
  }
 ],
 "metadata": {
  "kernelspec": {
   "display_name": "Python 3",
   "language": "python",
   "name": "python3"
  },
  "language_info": {
   "codemirror_mode": {
    "name": "ipython",
    "version": 3
   },
   "file_extension": ".py",
   "mimetype": "text/x-python",
   "name": "python",
   "nbconvert_exporter": "python",
   "pygments_lexer": "ipython3",
   "version": "3.5.4"
  }
 },
 "nbformat": 4,
 "nbformat_minor": 2
}
