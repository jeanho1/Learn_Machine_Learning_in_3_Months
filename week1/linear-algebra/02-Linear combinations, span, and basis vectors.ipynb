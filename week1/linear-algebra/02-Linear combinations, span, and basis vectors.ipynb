{
 "cells": [
  {
   "cell_type": "markdown",
   "metadata": {},
   "source": [
    "# Linear combinations, span, and basis vectors"
   ]
  },
  {
   "cell_type": "markdown",
   "metadata": {},
   "source": [
    "My notes from [Linear combinations, span, and basis vectors - Essence of linear algebra](https://www.youtube.com/watch?v=k7RM-ot2NWY&list=PLZHQObOWTQDPD3MizzM2xVFitgF8hE_ab&index=3)"
   ]
  },
  {
   "cell_type": "markdown",
   "metadata": {},
   "source": [
    "## Vector coordinate\n",
    "\n",
    "- For exammple, when you have a vector:\n",
    "$\\begin{bmatrix}\n",
    "3 \\\\\n",
    "-2 \\\\\n",
    "\\end{bmatrix}$\n",
    "\n",
    "- Think of each coordicate as a scalar, how each one stretches or squishes vectors\n",
    "- In the xy-coordinate system there are 2 special vectors:\n",
    "    - one pointing to the right with length 1 commonly called $\\large \\hat{i}$ or the unit vector in the X direction\n",
    "    - one pointing straight up with length 1 commonly called $\\large \\hat{j}$ or the unit vector in the Y direction\n",
    "    - \n",
    "- Now think of the x-coordinate of our vector as a scalar that scales $\\large \\hat{i}$ stretching it by a factor of 3 and the y-coordinate is a scalar that scales $\\large \\hat{j}$ flipping it and stretching it by a factor of 2\n",
    "- In this sense the vector that these coordinates describe is the sum of two scaled vectors that's a surprisingly important concept this idea of adding together two scaled vectors\n",
    "\n",
    "<img src=\"images/Screen Shot 2018-06-16 at 9.01.33 PM.png\">\n",
    "*Screenshot taken from [3Blue1Brown\n",
    "](https://www.youtube.com/watch?v=k7RM-ot2NWY&list=PLZHQObOWTQDPD3MizzM2xVFitgF8hE_ab&index=3)*\n",
    "\n",
    "<!--TEASER_END-->"
   ]
  },
  {
   "cell_type": "markdown",
   "metadata": {},
   "source": [
    "## Basic vectors\n",
    "- $\\large \\hat{i}$ and $\\large \\hat{j}$ are the __\"basic vectors\"__ of the xy coordinate system"
   ]
  },
  {
   "cell_type": "markdown",
   "metadata": {},
   "source": [
    "## Linear combination"
   ]
  },
  {
   "cell_type": "markdown",
   "metadata": {},
   "source": [
    "- Anytime that you're scaling two vectors and adding them, it's called a linear combination of those two vectors\n",
    "\n",
    "<img src=\"images/Screen Shot 2018-06-16 at 9.06.50 PM.png\">\n",
    "*Screenshot taken from [3Blue1Brown\n",
    "](https://www.youtube.com/watch?v=k7RM-ot2NWY&list=PLZHQObOWTQDPD3MizzM2xVFitgF8hE_ab&index=3)*\n",
    "\n",
    "<!--TEASER_END-->\n",
    "\n",
    "- Where does this word linear come from?\n",
    "    - If you fix one of those scalars and let the other one change its value freely, then the tip of the resulting vector draws a straight line\n",
    "\n",
    "<img src=\"images/Screen Shot 2018-06-16 at 9.08.10 PM.png\">\n",
    "*Screenshot taken from [3Blue1Brown\n",
    "](https://www.youtube.com/watch?v=k7RM-ot2NWY&list=PLZHQObOWTQDPD3MizzM2xVFitgF8hE_ab&index=3)*\n",
    "\n",
    "<!--TEASER_END-->\n",
    "    \n"
   ]
  },
  {
   "cell_type": "markdown",
   "metadata": {},
   "source": [
    "## Span"
   ]
  },
  {
   "cell_type": "markdown",
   "metadata": {},
   "source": [
    "- Tthe set of all possible vectors that you can reach with a linear combination of a given pair of vectors is called the __span__ of those two vectors.\n",
    "\n",
    "<img src=\"images/Screen Shot 2018-06-16 at 9.10.29 PM.png\">\n",
    "*Screenshot taken from [3Blue1Brown\n",
    "](https://www.youtube.com/watch?v=k7RM-ot2NWY&list=PLZHQObOWTQDPD3MizzM2xVFitgF8hE_ab&index=3)*\n",
    "\n",
    "<!--TEASER_END-->\n",
    "\n",
    "- The span of most pairs of 2d vectors is all vectors of 2d space\n",
    "- But when they line up their span is all vectors whose tip sit on a certain line.\n",
    "\n",
    "<img src=\"images/Screen Shot 2018-06-16 at 9.18.43 PM.png\">\n",
    "*Screenshot taken from [3Blue1Brown\n",
    "](https://www.youtube.com/watch?v=k7RM-ot2NWY&list=PLZHQObOWTQDPD3MizzM2xVFitgF8hE_ab&index=3)*"
   ]
  },
  {
   "cell_type": "markdown",
   "metadata": {},
   "source": [
    "## Linearly dependent and independent"
   ]
  },
  {
   "cell_type": "markdown",
   "metadata": {},
   "source": [
    "- When 2 vectors happen to line up in 1 line we want some terminology to describe the fact that at least one of these vectors is redundantnot adding anything to our span \n",
    "- Whenever this happens where you have multiple vectors and you could remove one without reducing the span, the relevant terminology is to say that they are __linearly dependent__\n",
    "- Another way of phrasing that would be to say that one of the vectors can be expressed as a linear combination of the others since it's already in the span of the others\n",
    "\n",
    "<img src=\"images/Screen Shot 2018-06-16 at 9.16.57 PM.png\">\n",
    "*Screenshot taken from [3Blue1Brown\n",
    "](https://www.youtube.com/watch?v=k7RM-ot2NWY&list=PLZHQObOWTQDPD3MizzM2xVFitgF8hE_ab&index=3)*\n",
    "\n",
    "<!--TEASER_END-->\n",
    "\n",
    "- On the other hand if each vector really does add another dimension to the span, they are said to be __linearly independent__\n",
    "\n",
    "<img src=\"images/Screen Shot 2018-06-16 at 9.21.42 PM.png\">\n",
    "*Screenshot taken from [3Blue1Brown\n",
    "](https://www.youtube.com/watch?v=k7RM-ot2NWY&list=PLZHQObOWTQDPD3MizzM2xVFitgF8hE_ab&index=3)*\n",
    "\n",
    "<!--TEASER_END-->"
   ]
  }
 ],
 "metadata": {
  "kernelspec": {
   "display_name": "Python 3",
   "language": "python",
   "name": "python3"
  },
  "language_info": {
   "codemirror_mode": {
    "name": "ipython",
    "version": 3
   },
   "file_extension": ".py",
   "mimetype": "text/x-python",
   "name": "python",
   "nbconvert_exporter": "python",
   "pygments_lexer": "ipython3",
   "version": "3.5.4"
  }
 },
 "nbformat": 4,
 "nbformat_minor": 2
}
